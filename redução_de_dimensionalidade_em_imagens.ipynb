{
  "nbformat": 4,
  "nbformat_minor": 0,
  "metadata": {
    "colab": {
      "provenance": []
    },
    "kernelspec": {
      "name": "python3",
      "display_name": "Python 3"
    },
    "language_info": {
      "name": "python"
    }
  },
  "cells": [
    {
      "cell_type": "code",
      "execution_count": 2,
      "metadata": {
        "colab": {
          "base_uri": "https://localhost:8080/"
        },
        "id": "zfQNomAwr3FY",
        "outputId": "eb01fdcd-1d04-451c-f574-0a51256faef1"
      },
      "outputs": [
        {
          "output_type": "stream",
          "name": "stdout",
          "text": [
            "Conversão concluída! Imagens salvas em cinza e binário.\n"
          ]
        }
      ],
      "source": [
        "def ler_imagem(caminho):\n",
        "    with open(caminho, \"rb\") as arquivo:\n",
        "        dados = arquivo.read()\n",
        "    return list(dados)\n",
        "\n",
        "def converter_para_cinza(dados):\n",
        "    imagem_cinza = []\n",
        "    for i in range(0, len(dados), 3):\n",
        "        if i + 2 < len(dados):\n",
        "            r, g, b = dados[i], dados[i+1], dados[i+2]\n",
        "            cinza = (r + g + b) // 3\n",
        "            imagem_cinza.extend([cinza] * 3)\n",
        "    return imagem_cinza\n",
        "\n",
        "def converter_para_binario(dados_cinza, limiar=128):\n",
        "    imagem_binaria = [255 if pixel > limiar else 0 for pixel in dados_cinza]\n",
        "    return imagem_binaria\n",
        "\n",
        "def salvar_imagem(caminho, dados):\n",
        "    with open(caminho, \"wb\") as arquivo:\n",
        "        arquivo.write(bytes(dados))\n",
        "\n",
        "# Caminho da imagem de entrada e saída\n",
        "caminho_imagem = \"/content/frida.jpeg\"\n",
        "caminho_saida_cinza = \"/content/frida_cinza.jpeg\"\n",
        "caminho_saida_binario = \"/content/frida_binario.jpeg\"\n",
        "\n",
        "# Processamento da imagem\n",
        "dados_imagem = ler_imagem(caminho_imagem)\n",
        "dados_cinza = converter_para_cinza(dados_imagem)\n",
        "salvar_imagem(caminho_saida_cinza, dados_cinza)\n",
        "\n",
        "dados_binario = converter_para_binario(dados_cinza)\n",
        "salvar_imagem(caminho_saida_binario, dados_binario)\n",
        "\n",
        "print(\"Conversão concluída! Imagens salvas em cinza e binário.\")"
      ]
    }
  ]
}